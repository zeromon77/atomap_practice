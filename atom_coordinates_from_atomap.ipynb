{
 "cells": [
  {
   "cell_type": "code",
   "execution_count": 13,
   "metadata": {},
   "outputs": [],
   "source": [
    "%matplotlib qt\n",
    "import atomap.api as am\n",
    "import numpy as np"
   ]
  },
  {
   "cell_type": "code",
   "execution_count": 14,
   "metadata": {},
   "outputs": [],
   "source": [
    "import atomap.dummy_data as dummy_data"
   ]
  },
  {
   "cell_type": "code",
   "execution_count": 15,
   "metadata": {},
   "outputs": [],
   "source": [
    "def coord(name):\n",
    "    xs = []\n",
    "    ys = []\n",
    "    es = []\n",
    "\n",
    "    for i in name:\n",
    "        xs.append(i.pixel_x)\n",
    "        ys.append(i.pixel_y)\n",
    "        es.append(i.ellipticity)\n",
    "    np.savetxt(\"atom_coordinate.csv\", np.column_stack((xs,ys,es)), delimiter=',', header=\"x y elipticity\")\n",
    "    return np.column_stack((xs,ys,es))"
   ]
  },
  {
   "cell_type": "code",
   "execution_count": 16,
   "metadata": {},
   "outputs": [],
   "source": [
    "s = dummy_data.get_simple_cubic_signal(image_noise=True)\n",
    "#s.plot()"
   ]
  },
  {
   "cell_type": "code",
   "execution_count": 17,
   "metadata": {},
   "outputs": [
    {
     "name": "stderr",
     "output_type": "stream",
     "text": [
      "100%|██████████| 18/18 [00:04<00:00,  4.20it/s]\n",
      "100%|██████████| 931/931 [00:00<00:00, 6236.96it/s]\n"
     ]
    }
   ],
   "source": [
    "s_peaks = am.get_feature_separation(s, separation_range=(2,20))"
   ]
  },
  {
   "cell_type": "code",
   "execution_count": 18,
   "metadata": {},
   "outputs": [],
   "source": [
    "atom_positions = am.get_atom_positions(s, separation=7)"
   ]
  },
  {
   "cell_type": "code",
   "execution_count": 19,
   "metadata": {},
   "outputs": [
    {
     "name": "stderr",
     "output_type": "stream",
     "text": [
      "Center of mass: 100%|██████████| 400/400 [00:00<00:00, 845.84it/s]\n",
      "Gaussian fitting: 100%|██████████| 400/400 [00:08<00:00, 44.71it/s]\n"
     ]
    }
   ],
   "source": [
    "sublattice = am.Sublattice(atom_positions, image=s.data)\n",
    "\n",
    "sublattice.find_nearest_neighbors()\n",
    "\n",
    "sublattice.refine_atom_positions_using_center_of_mass()\n",
    "\n",
    "sublattice.refine_atom_positions_using_2d_gaussian()"
   ]
  },
  {
   "cell_type": "code",
   "execution_count": 20,
   "metadata": {},
   "outputs": [],
   "source": [
    "atom_list = sublattice.atom_list"
   ]
  },
  {
   "cell_type": "code",
   "execution_count": 21,
   "metadata": {},
   "outputs": [
    {
     "data": {
      "text/plain": [
       "array([[231.1017216 , 290.00248755,   1.02711288],\n",
       "       [127.83257204, 290.05336448,   1.00872608],\n",
       "       [113.15624099, 290.13780457,   1.0540971 ],\n",
       "       ...,\n",
       "       [260.29689822,   9.97636126,   1.13857612],\n",
       "       [157.41701868,   9.92992513,   1.05982046],\n",
       "       [ 54.35295575,  10.0183154 ,   1.03762742]])"
      ]
     },
     "execution_count": 21,
     "metadata": {},
     "output_type": "execute_result"
    }
   ],
   "source": [
    "atom_tot = coord(atom_list)"
   ]
  },
  {
   "cell_type": "code",
   "execution_count": null,
   "metadata": {},
   "outputs": [],
   "source": []
  }
 ],
 "metadata": {
  "kernelspec": {
   "display_name": "Python 3",
   "language": "python",
   "name": "python3"
  },
  "language_info": {
   "codemirror_mode": {
    "name": "ipython",
    "version": 3
   },
   "file_extension": ".py",
   "mimetype": "text/x-python",
   "name": "python",
   "nbconvert_exporter": "python",
   "pygments_lexer": "ipython3",
   "version": "3.7.2"
  }
 },
 "nbformat": 4,
 "nbformat_minor": 2
}
